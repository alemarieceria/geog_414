{
 "cells": [
  {
   "cell_type": "markdown",
   "id": "0",
   "metadata": {},
   "source": [
    "# Lab 1\n",
    "\n",
    "[![Open In Colab](https://colab.research.google.com/assets/colab-badge.svg)](https://colab.research.google.com/github/giswqs/geog-414/blob/master/book/labs/lab_01.ipynb)\n",
    "\n",
    "## Question 1\n",
    "\n",
    "To complete this question, follow the steps below:\n",
    "\n",
    "1. Install [leafmap](https://leafmap.org) and create a Jupyter Notebook.\n",
    "2. Copy and paste the code cell provided below into your notebook.\n",
    "3. Replace the text `Made by Your Name` with your actual name.\n",
    "4. If desired, update the logo with your own image.\n",
    "5. Run the code cell to generate an interactive map.\n",
    "6. Ensure that your name is visible on the map.\n",
    "7. Take a screenshot of your map and save it as an image.\n",
    "8. Submit your screenshot and the link to your Colab notebook.\n"
   ]
  },
  {
   "cell_type": "code",
   "execution_count": 1,
   "id": "12d02577",
   "metadata": {},
   "outputs": [],
   "source": [
    "import leafmap"
   ]
  },
  {
   "cell_type": "code",
   "execution_count": 60,
   "id": "d0d5a34f",
   "metadata": {},
   "outputs": [],
   "source": [
    "# Create an interactive map centered around the Main Hawaiian Islands\n",
    "m = leafmap.Map(center=[20.8, -156.5], zoom=7, height=\"600px\")"
   ]
  },
  {
   "cell_type": "code",
   "execution_count": 61,
   "id": "2920bdad",
   "metadata": {},
   "outputs": [],
   "source": [
    "# Add a basemap\n",
    "m.add_basemap(\"Esri.WorldImagery\")"
   ]
  },
  {
   "cell_type": "code",
   "execution_count": 62,
   "id": "6dfc9867",
   "metadata": {},
   "outputs": [],
   "source": [
    "# Add text to the map\n",
    "text = \"Map by Alemarie Ceria\"\n",
    "m.add_text(text, fontsize=20, position=\"bottomright\")"
   ]
  },
  {
   "cell_type": "code",
   "execution_count": 63,
   "id": "5d5c46a8",
   "metadata": {},
   "outputs": [],
   "source": [
    "# Add logo to map\n",
    "logo = \"https://placehold.co/100x100/png\"\n",
    "m.add_image(logo, position=\"bottomright\")"
   ]
  },
  {
   "cell_type": "markdown",
   "id": "65f38fab",
   "metadata": {},
   "source": [
    "The leafmap logo url kept producing a broken image icon on the map, so I replaced it with a placeholder image."
   ]
  },
  {
   "cell_type": "code",
   "execution_count": 64,
   "id": "b8c20493",
   "metadata": {},
   "outputs": [
    {
     "name": "stderr",
     "output_type": "stream",
     "text": [
      "Skipping field coordinates: unsupported OGR type: 3\n"
     ]
    }
   ],
   "source": [
    "# Source of dataset\n",
    "cables = \"https://raw.githubusercontent.com/opengeos/data/main/vector/cables.geojson\"\n",
    "# Styling function applied to each feature\n",
    "callback = lambda feat: {\n",
    "    # Use the \"color\" property from each feature for line color\n",
    "    \"color\": feat[\"properties\"][\"color\"],\n",
    "    # Set line thickness to 1\n",
    "    \"weight\": 1,\n",
    "}\n",
    "# Add GeoJSON data to the map\n",
    "m.add_geojson(\n",
    "    # GeoJSON source\n",
    "    cables,\n",
    "    # Name of the layer in the map's layer control\n",
    "    layer_name=\"Cable Lines\",\n",
    "    # Apply custom styling via callback\n",
    "    style_callback=callback,\n",
    ")"
   ]
  },
  {
   "cell_type": "code",
   "execution_count": 65,
   "id": "7c0a1caf",
   "metadata": {},
   "outputs": [
    {
     "data": {
      "application/vnd.jupyter.widget-view+json": {
       "model_id": "838e8f853258420fada3a976635f075b",
       "version_major": 2,
       "version_minor": 0
      },
      "text/plain": [
       "Map(center=[20.8, -156.5], controls=(ZoomControl(options=['position', 'zoom_in_text', 'zoom_in_title', 'zoom_o…"
      ]
     },
     "execution_count": 65,
     "metadata": {},
     "output_type": "execute_result"
    }
   ],
   "source": [
    "m"
   ]
  }
 ],
 "metadata": {
  "kernelspec": {
   "display_name": "Python 3.12 (gee)",
   "language": "python",
   "name": "gee"
  },
  "language_info": {
   "codemirror_mode": {
    "name": "ipython",
    "version": 3
   },
   "file_extension": ".py",
   "mimetype": "text/x-python",
   "name": "python",
   "nbconvert_exporter": "python",
   "pygments_lexer": "ipython3",
   "version": "3.12.11"
  }
 },
 "nbformat": 4,
 "nbformat_minor": 5
}
